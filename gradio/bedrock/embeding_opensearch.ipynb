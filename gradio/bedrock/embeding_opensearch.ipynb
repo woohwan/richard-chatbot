{
 "cells": [
  {
   "cell_type": "markdown",
   "metadata": {},
   "source": [
    "## 헌법 전문을 OpenSearch VectorSotre에 저장"
   ]
  },
  {
   "cell_type": "markdown",
   "metadata": {},
   "source": [
    "### OpenSearch Client 생성"
   ]
  },
  {
   "cell_type": "markdown",
   "metadata": {},
   "source": [
    "### **순서**\n",
    "#### on WSL2 Ubuntu 22.02\n",
    "- opensearch 설치  \n",
    "    - default install drectory: /usr/share/opensearch  \n",
    "- opensearch-dashboards 설치  \n",
    "- opensearch-python 설치 (pip install opensearch-py)  \n",
    "- nori plugin 설치  \n",
    "    ```\n",
    "    cd /usr/share\n",
    "    opensearch/bin/opensearch-plugin install analysis-nori  \n",
    "    ```\n",
    "- nori plugin 설치 확인 (opensearch/bin/opensearch-plugin list)\n",
    "- opensearch 실행 (sudo systemctl start opensearch)\n",
    "- opensearch-dashboards 실행 (sudo systemctl start opensearch-dashboards)\n",
    "- opensearch 실행 확인 (curl -XGET https://localhost:9200)\n",
    "- opensearch-dashboards 실행 확인 (curl -XGET https://localhost:5601)\n",
    "- opensearch-dashboards 접속 (https://localhost:5601)\n",
    "- 분석할 문서를 PDFLoader load\n",
    "- 문서 Chunking\n",
    "- OpenSearchVectorSearch를 이용하여 index 생성\n",
    "- 자동 생성된 인덱스 확인\n",
    "- nori 형태소 분석기를 이용하기 위해 index 생성 및 재인덱싱"
   ]
  },
  {
   "cell_type": "markdown",
   "metadata": {},
   "source": [
    "### Bedrock 연결 확인 및 OpenSearch 연결 확인"
   ]
  },
  {
   "cell_type": "markdown",
   "metadata": {},
   "source": [
    "####  Bedrock 연결 구성 및 확인"
   ]
  },
  {
   "cell_type": "code",
   "execution_count": 12,
   "metadata": {},
   "outputs": [],
   "source": [
    "# crate boto3 session\n",
    "import boto3\n",
    "session = boto3.Session(region_name='us-east-1')\n",
    "\n",
    "# create bedrock client\n",
    "br_client = session.client('bedrock-runtime')"
   ]
  },
  {
   "cell_type": "code",
   "execution_count": 6,
   "metadata": {},
   "outputs": [
    {
     "data": {
      "text/plain": [
       "BedrockEmbeddings(client=<botocore.client.BedrockRuntime object at 0x7f3d9666e990>, region_name='us-east-1', credentials_profile_name=None, model_id='amazon.titan-embed-text-v1', model_kwargs=None, endpoint_url=None)"
      ]
     },
     "execution_count": 6,
     "metadata": {},
     "output_type": "execute_result"
    }
   ],
   "source": [
    "# create a embeding model\n",
    "from langchain.embeddings import BedrockEmbeddings\n",
    "\n",
    "llm_emb = BedrockEmbeddings(\n",
    "    model_id='amazon.titan-embed-text-v1',\n",
    "    client=br_client,\n",
    "    region_name='us-east-1'\n",
    ")\n",
    "llm_emb"
   ]
  },
  {
   "cell_type": "markdown",
   "metadata": {},
   "source": [
    "#### OpenSearch 연결확인"
   ]
  },
  {
   "cell_type": "code",
   "execution_count": 2,
   "metadata": {},
   "outputs": [
    {
     "name": "stdout",
     "output_type": "stream",
     "text": [
      "{'name': 'DESKTOP-WHPARK', 'cluster_name': 'opensearch', 'cluster_uuid': 'Fu1wEBfcT_OjptkNYtB1WA', 'version': {'distribution': 'opensearch', 'number': '2.11.1', 'build_type': 'deb', 'build_hash': '6b1986e964d440be9137eba1413015c31c5a7752', 'build_date': '2023-11-29T21:43:44.221253956Z', 'build_snapshot': False, 'lucene_version': '9.7.0', 'minimum_wire_compatibility_version': '7.10.0', 'minimum_index_compatibility_version': '7.0.0'}, 'tagline': 'The OpenSearch Project: https://opensearch.org/'}\n"
     ]
    }
   ],
   "source": [
    "\n",
    "from opensearchpy import OpenSearch\n",
    "\n",
    "#  opensearch info\n",
    "host = 'localhost'\n",
    "port = 9200\n",
    "http_auth = ('admin', 'admin')\n",
    "opensearch_endpoint = f'https://{host}:{port}'\n",
    "\n",
    "# certs info: https://www.notion.so/Certificate-Password-8087893ff1b24dd0b71e66c9916fa55a\n",
    "ca_cert = 'certs/root-ca.pem'\n",
    "client_cert = 'certs/admin.pem'\n",
    "client_key = 'certs/admin-key.pem'\n",
    "\n",
    "\n",
    "# create client\n",
    "os_client = OpenSearch(\n",
    "    hosts=[opensearch_endpoint],\n",
    "    http_auth=http_auth,\n",
    "    ca_certs=ca_cert,\n",
    "    client_cert=client_cert,\n",
    "    client_key=client_key,\n",
    "    use_ssl=True,\n",
    "    verify_certs=True,\n",
    "    ssl_assert_hostname=False,\n",
    "    ssl_show_warn=False,\n",
    ")\n",
    "\n",
    "# verify connection\n",
    "print(os_client.info())\n"
   ]
  },
  {
   "cell_type": "markdown",
   "metadata": {},
   "source": [
    "### 문서 임베딩 및 Opensearch 인덱싱"
   ]
  },
  {
   "cell_type": "markdown",
   "metadata": {},
   "source": [
    "#### 문서 로딩 및 page split"
   ]
  },
  {
   "cell_type": "code",
   "execution_count": 9,
   "metadata": {},
   "outputs": [
    {
     "name": "stdout",
     "output_type": "stream",
     "text": [
      "page_content='대한민국헌법\\n 법제처 - 1 / 11 -\\n  국가법령정보센터대한민국헌법\\n[시행 1988.2.25.] [헌법 제10호, 1987.10.29., 전부개정 ]\\n        유구한 역사와 전통에 빛나는 우리 대한국민은 3·1운동으로 건립된 대한민국임시정부의 법통과 불의에 \\n항거한 4·19 민주이념을 계승하고 , 조국의 민주개혁과 평화적 통일의 사명에 입각하여 정의·인도와 동포애로\\n써 민족의 단결을 공고히 하고, 모든 사회적 폐습과 불의를 타파하며 , 자율과 조화를 바탕으로 자유민주적 기\\n본질서를 더욱 확고히 하여 정치·경제·사회·문화의 모든 영역에 있어서 각인의 기회를 균등히 하고, 능력을 \\n최고도로 발휘하게 하며, 자유와 권리에 따르는 책임과 의무를 완수하게 하여, 안으로는 국민생활의 균등한 향\\n상을 기하고 밖으로는 항구적인 세계평화와 인류공영에 이바지함으로써 우리들과 우리들의 자손의 안전과 자유\\n와 행복을 영원히 확보할 것을 다짐하면서 1948년 7월 12일에 제정되고 8차에 걸쳐 개정된 헌법을 이제 국회\\n의 의결을 거쳐 국민투표에 의하여 개정한다 . \\n       제1장 총강 \\n제1조 ①대한민국은 민주공화국이다 .\\n  ②대한민국의 주권은 국민에게 있고, 모든 권력은 국민으로부터 나온다 .\\n제2조 ①대한민국의 국민이 되는 요건은 법률로 정한다 .\\n  ②국가는 법률이 정하는 바에 의하여 재외국민을 보호할 의무를 진다.\\n제3조 대한민국의 영토는 한반도와 그 부속도서로 한다.\\n제4조 대한민국은 통일을 지향하며 , 자유민주적 기본질서에 입각한 평화적 통일 정책을 수립하고 이를 추진한다 .\\n제5조 ①대한민국은 국제평화의 유지에 노력하고 침략적 전쟁을 부인한다 .\\n  ②국군은 국가의 안전보장과 국토방위의 신성한 의무를 수행함을 사명으로 하며, 그 정치적 중립성은 준수된다 .\\n제6조 ①헌법에 의하여 체결·공포된 조약과 일반적으로 승인된 국제법규는 국내법과 같은 효력을 가진다 .\\n  ②외국인은 국제법과 조약이 정하는 바에 의하여 그 지위가 보장된다 .\\n제7조 ①공무원은 국민전체에 대한 봉사자이며 , 국민에 대하여 책임을 진다.\\n  ②공무원의 신분과 정치적 중립성은 법률이 정하는 바에 의하여 보장된다 .\\n제8조 ①정당의 설립은 자유이며 , 복수정당제는 보장된다 .\\n  ②정당은 그 목적·조직과 활동이 민주적이어야 하며, 국민의 정치적 의사형성에 참여하는데 필요한 조직을 가\\n져야 한다.\\n  ③정당은 법률이 정하는 바에 의하여 국가의 보호를 받으며 , 국가는 법률이 정하는 바에 의하여 정당운영에 필\\n요한 자금을 보조할 수 있다.\\n  ④정당의 목적이나 활동이 민주적 기본질서에 위배될 때에는 정부는 헌법재판소에 그 해산을 제소할 수 있고, \\n정당은 헌법재판소의 심판에 의하여 해산된다 .\\n제9조 국가는 전통문화의 계승·발전과 민족문화의 창달에 노력하여야 한다.\\n       제2장 국민의 권리와 의무 \\n제10조 모든 국민은 인간으로서의 존엄과 가치를 가지며 , 행복을 추구할 권리를 가진다 . 국가는 개인이 가지는 \\n불가침의 기본적 인권을 확인하고 이를 보장할 의무를 진다.\\n제11조 ①모든 국민은 법 앞에 평등하다 . 누구든지 성별·종교 또는 사회적 신분에 의하여 정치적 ·경제적 ·사회\\n적·문화적 생활의 모든 영역에 있어서 차별을 받지 아니한다 .\\n  ②사회적 특수계급의 제도는 인정되지 아니하며 , 어떠한 형태로도 이를 창설할 수 없다.\\n  ③훈장등의 영전은 이를 받은 자에게만 효력이 있고, 어떠한 특권도 이에 따르지 아니한다 .\\n제12조 ①모든 국민은 신체의 자유를 가진다 . 누구든지 법률에 의하지 아니하고는 체포·구속·압수·수색 또는 \\n심문을 받지 아니하며 , 법률과 적법한 절차에 의하지 아니하고는 처벌·보안처분 또는 강제노역을 받지 아니한\\n다.\\n  ②모든 국민은 고문을 받지 아니하며 , 형사상 자기에게 불리한 진술을 강요당하지 아니한다 .' metadata={'source': 'data/Constitution.pdf', 'page': 0}\n"
     ]
    }
   ],
   "source": [
    "from langchain.document_loaders import PyPDFLoader\n",
    "\n",
    "# create a document loader\n",
    "loader = PyPDFLoader(\"data/Constitution.pdf\")\n",
    "# split document into pages\n",
    "documents = loader.load_and_split()\n",
    "# print first page\n",
    "print(documents[0])"
   ]
  },
  {
   "cell_type": "markdown",
   "metadata": {},
   "source": [
    "#### Text Split"
   ]
  },
  {
   "cell_type": "code",
   "execution_count": 19,
   "metadata": {},
   "outputs": [
    {
     "name": "stdout",
     "output_type": "stream",
     "text": [
      "Number of documents after split and chunking=25\n"
     ]
    }
   ],
   "source": [
    "# token 길이 확인 function 생성\n",
    "import tiktoken\n",
    "# https://github.com/openai/openai-cookbook/blob/main/examples/How_to_count_tokens_with_tiktoken.ipynb\n",
    "def tiktoken_length(text):\n",
    "    tokenizer = tiktoken.get_encoding(\"cl100k_base\")\n",
    "    tokens = tokenizer.encode(text)\n",
    "    return len(tokens)\n",
    "\n",
    "\n",
    "# create a recursive text splitter\n",
    "# https://python.langchain.com/docs/modules/data_connection/document_transformers/#get-started-with-text-splitters\n",
    "from langchain.text_splitter import RecursiveCharacterTextSplitter\n",
    "\n",
    "text_splitter = RecursiveCharacterTextSplitter(\n",
    "    chunk_size=1024,\n",
    "    chunk_overlap=128,\n",
    "    separators=[\"\\n\\n\", \"\\n\", \".\",\" \", \"\"],\n",
    "    length_function=tiktoken_length\n",
    ")\n",
    "\n",
    "docs = text_splitter.split_documents(documents)\n",
    "print(f\"Number of documents after split and chunking={len(docs)}\")"
   ]
  },
  {
   "cell_type": "markdown",
   "metadata": {},
   "source": [
    "#### 기존 인덱스 유무 확인"
   ]
  },
  {
   "cell_type": "code",
   "execution_count": 33,
   "metadata": {},
   "outputs": [
    {
     "name": "stdout",
     "output_type": "stream",
     "text": [
      "Deleted index constitution\n"
     ]
    }
   ],
   "source": [
    "index_name = \"constitution\"\n",
    "\n",
    "index_exists = os_client.indices.exists(index=index_name)\n",
    "if index_exists:\n",
    "    os_client.indices.delete(index=index_name)\n",
    "    print(f\"Deleted index {index_name}\")\n",
    "else:\n",
    "    print(f\"Index {index_name} does not exist\")\n"
   ]
  },
  {
   "cell_type": "markdown",
   "metadata": {},
   "source": [
    "#### OpenSearch Index 생성"
   ]
  },
  {
   "cell_type": "code",
   "execution_count": 39,
   "metadata": {},
   "outputs": [
    {
     "data": {
      "text/plain": [
       "{'acknowledged': True,\n",
       " 'shards_acknowledged': True,\n",
       " 'index': 'constitution-with-nori'}"
      ]
     },
     "execution_count": 39,
     "metadata": {},
     "output_type": "execute_result"
    }
   ],
   "source": [
    "index_name = \"constitution-with-nori\"\n",
    "index_body = {\n",
    "    \"settings\": {\n",
    "        \"index\": {\n",
    "            \"number_of_shards\": 5,\n",
    "            \"number_of_replicas\": 1,\n",
    "            \"knn\": \"true\",\n",
    "            \"knn.algo_param\": { \"ef_search\": 512}\n",
    "        },\n",
    "        \"analysis\": {\n",
    "            \"tokenizer\": {\n",
    "                \"nori\": {\n",
    "                    \"type\": \"nori_tokenizer\",\n",
    "                    \"decompound_mode\": \"mixed\",\n",
    "                    \"discard_punctuation\": \"true\"\n",
    "                }\n",
    "            },\n",
    "            \"analyzer\": {\n",
    "                \"nori_analyzer\": {\n",
    "                    \"type\": \"custom\",\n",
    "                    \"char_filter\": [\"html_strip\"],\n",
    "                    \"tokenizer\": \"nori\",\n",
    "                    \"filter\": [\"nori_number\", \"nori_readingform\", \"lowercase\"]\n",
    "                }\n",
    "            }\n",
    "        }\n",
    "    },\n",
    "    \"mappings\": {\n",
    "        \"properties\": {\n",
    "            \"text\": {\n",
    "                \"type\": \"text\",\n",
    "                \"fields\": {\n",
    "                    \"keyword\": {\n",
    "                        \"type\": \"keyword\",\n",
    "                        \"ignore_above\": 256\n",
    "                    }\n",
    "                },\n",
    "                \"analyzer\": \"nori_analyzer\",\n",
    "                \"search_analyzer\": \"nori_analyzer\"\n",
    "            },\n",
    "            \"vector_field\": {\n",
    "                \"type\": \"knn_vector\",\n",
    "                \"dimension\": 1536,\n",
    "                \"method\": {\n",
    "                    \"name\": \"hnsw\",\n",
    "                    \"space_type\": \"l2\",\n",
    "                    \"engine\": \"nmslib\",\n",
    "                    \"parameters\": {\n",
    "                        \"m\": 16,\n",
    "                        \"ef_construction\": 512\n",
    "                    }\n",
    "                }\n",
    "            }\n",
    "        }\n",
    "    }\n",
    "}\n",
    "\n",
    "os_client.indices.create(index=index_name, body=index_body)"
   ]
  },
  {
   "cell_type": "code",
   "execution_count": 40,
   "metadata": {},
   "outputs": [],
   "source": [
    "# langchain의 OpenSerachVectorSearch를 이용하여 index 생성\n",
    "# https://python.langchain.com/docs/integrations/vectorstores/opensearch\n",
    "\n",
    "# by default langchain would create a k-NN index and the embeddings would be ingested as a k-NN vector type\n",
    "from langchain.vectorstores import OpenSearchVectorSearch\n",
    "\n",
    "docsearch = OpenSearchVectorSearch.from_documents(\n",
    "    docs,\n",
    "    llm_emb,\n",
    "    index_name=index_name,\n",
    "    opensearch_url=opensearch_endpoint,\n",
    "    http_auth=http_auth,\n",
    "    ca_certs=ca_cert,\n",
    "    client_cert=client_cert,\n",
    "    client_key=client_key,\n",
    "    use_ssl=True,\n",
    "    verify_certs=True,\n",
    "    ssl_assert_hostname=False,\n",
    "    ssl_show_warn=False,\n",
    ")\n",
    "\n"
   ]
  },
  {
   "cell_type": "code",
   "execution_count": 41,
   "metadata": {},
   "outputs": [
    {
     "name": "stdout",
     "output_type": "stream",
     "text": [
      "대한민국헌법\n",
      " 법제처 - 1 / 11 -\n",
      "  국가법령정보센터대한민국헌법\n",
      "[시행 1988.2.25.] [헌법 제10호, 1987.10.29., 전부개정 ]\n",
      "        유구한 역사와 전통에 빛나는 우리 대한국민은 3·1운동으로 건립된 대한민국임시정부의 법통과 불의에 \n",
      "항거한 4·19 민주이념을 계승하고 , 조국의 민주개혁과 평화적 통일의 사명에 입각하여 정의·인도와 동포애로\n",
      "써 민족의 단결을 공고히 하고, 모든 사회적 폐습과 불의를 타파하며 , 자율과 조화를 바탕으로 자유민주적 기\n",
      "본질서를 더욱 확고히 하여 정치·경제·사회·문화의 모든 영역에 있어서 각인의 기회를 균등히 하고, 능력을 \n",
      "최고도로 발휘하게 하며, 자유와 권리에 따르는 책임과 의무를 완수하게 하여, 안으로는 국민생활의 균등한 향\n",
      "상을 기하고 밖으로는 항구적인 세계평화와 인류공영에 이바지함으로써 우리들과 우리들의 자손의 안전과 자유\n",
      "와 행복을 영원히 확보할 것을 다짐하면서 1948년 7월 12일에 제정되고 8차에 걸쳐 개정된 헌법을 이제 국회\n",
      "의 의결을 거쳐 국민투표에 의하여 개정한다 . \n",
      "       제1장 총강 \n",
      "제1조 ①대한민국은 민주공화국이다 .\n",
      "  ②대한민국의 주권은 국민에게 있고, 모든 권력은 국민으로부터 나온다 .\n",
      "제2조 ①대한민국의 국민이 되는 요건은 법률로 정한다 .\n",
      "  ②국가는 법률이 정하는 바에 의하여 재외국민을 보호할 의무를 진다.\n",
      "제3조 대한민국의 영토는 한반도와 그 부속도서로 한다.\n",
      "제4조 대한민국은 통일을 지향하며 , 자유민주적 기본질서에 입각한 평화적 통일 정책을 수립하고 이를 추진한다 .\n",
      "제5조 ①대한민국은 국제평화의 유지에 노력하고 침략적 전쟁을 부인한다 .\n",
      "  ②국군은 국가의 안전보장과 국토방위의 신성한 의무를 수행함을 사명으로 하며, 그 정치적 중립성은 준수된다 .\n",
      "제6조 ①헌법에 의하여 체결·공포된 조약과 일반적으로 승인된 국제법규는 국내법과 같은 효력을 가진다 .\n"
     ]
    }
   ],
   "source": [
    "query=\"민주공화국\"\n",
    "docs = docsearch.similarity_search(query=query, k=3)\n",
    "print(docs[0].page_content)"
   ]
  },
  {
   "cell_type": "code",
   "execution_count": null,
   "metadata": {},
   "outputs": [],
   "source": []
  }
 ],
 "metadata": {
  "kernelspec": {
   "display_name": "bedrock",
   "language": "python",
   "name": "python3"
  },
  "language_info": {
   "codemirror_mode": {
    "name": "ipython",
    "version": 3
   },
   "file_extension": ".py",
   "mimetype": "text/x-python",
   "name": "python",
   "nbconvert_exporter": "python",
   "pygments_lexer": "ipython3",
   "version": "3.11.5"
  }
 },
 "nbformat": 4,
 "nbformat_minor": 2
}
