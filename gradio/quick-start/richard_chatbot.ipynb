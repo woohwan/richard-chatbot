{
 "cells": [
  {
   "cell_type": "code",
   "execution_count": 1,
   "metadata": {},
   "outputs": [],
   "source": [
    "# create boto3 session for interacting with AWS\n",
    "import boto3\n",
    "session = boto3.Session(region_name='us-east-1')\n",
    "# create bedrock client\n",
    "br_client = session.client('bedrock-runtime')\n"
   ]
  },
  {
   "cell_type": "code",
   "execution_count": 2,
   "metadata": {},
   "outputs": [],
   "source": [
    "# Create LLM Model using claude-v2 model and langchain\n",
    "from langchain.llms import Bedrock\n",
    "from langchain.callbacks.streaming_stdout import StreamingStdOutCallbackHandler\n",
    "\n",
    "llm_text = Bedrock(\n",
    "  client = br_client,\n",
    "  model_id = 'anthropic.claude-v2',\n",
    "  model_kwargs = {\n",
    "    \"max_tokens_to_sample\": 512,\n",
    "  },\n",
    "  streaming = True,\n",
    "  callbacks = [StreamingStdOutCallbackHandler()]\n",
    ")"
   ]
  },
  {
   "cell_type": "code",
   "execution_count": 3,
   "metadata": {},
   "outputs": [
    {
     "name": "stdout",
     "output_type": "stream",
     "text": [
      " 한국 남부에 위치한 국가입니다. 주요 사실들은 다음과 같습니다:\n",
      "\n",
      "- 정식 국호는 대한민국(Republic of Korea)이며, 서울이 수도입니다. \n",
      "\n",
      "- 남쪽과 서쪽으로는 황해, 남해, Korea Strait에 둘러싸여 있습니다.\n",
      "\n",
      "- 북쪽으로는 조선민주주의인민공화국과 국경을 맞대고 있습니다.\n",
      "\n",
      "- 면적은 약 100,210km2이며, 인구는 약 5천1백만 명입니다. \n",
      "\n",
      "- 주요 산업은 전자, 자동차, 조선, 철강 등의 제조업과 서비스업입니다.\n",
      "\n",
      "- G20 국가 중 하나이며, 세계 10위권의 경제규모를 가진 선진국입니다. \n",
      "\n",
      "- 민주주의와 자본주의 경제체제를 가진 대표적인 자유민주주의 국가입니다."
     ]
    },
    {
     "data": {
      "text/plain": [
       "' 한국 남부에 위치한 국가입니다. 주요 사실들은 다음과 같습니다:\\n\\n- 정식 국호는 대한민국(Republic of Korea)이며, 서울이 수도입니다. \\n\\n- 남쪽과 서쪽으로는 황해, 남해, Korea Strait에 둘러싸여 있습니다.\\n\\n- 북쪽으로는 조선민주주의인민공화국과 국경을 맞대고 있습니다.\\n\\n- 면적은 약 100,210km2이며, 인구는 약 5천1백만 명입니다. \\n\\n- 주요 산업은 전자, 자동차, 조선, 철강 등의 제조업과 서비스업입니다.\\n\\n- G20 국가 중 하나이며, 세계 10위권의 경제규모를 가진 선진국입니다. \\n\\n- 민주주의와 자본주의 경제체제를 가진 대표적인 자유민주주의 국가입니다.'"
      ]
     },
     "execution_count": 3,
     "metadata": {},
     "output_type": "execute_result"
    }
   ],
   "source": [
    "from langchain.chat_models import BedrockChat\n",
    "from langchain.prompts import ChatPromptTemplate\n",
    "from langchain_core.output_parsers import StrOutputParser\n",
    "\n",
    "prompt = ChatPromptTemplate.from_template(\"{country}의 위치는?\")\n",
    "model = llm_text\n",
    "output_parser = StrOutputParser()\n",
    "\n",
    "chain = prompt | model | output_parser\n",
    "\n",
    "chain.invoke({\"country\": \"Korea, south\"})"
   ]
  },
  {
   "cell_type": "code",
   "execution_count": 4,
   "metadata": {},
   "outputs": [
    {
     "name": "stdout",
     "output_type": "stream",
     "text": [
      " 한국의 남부에 위치한 국가입니다. 주요 내용은 다음과 같습니다:\n",
      "\n",
      "- 수도는 서울입니다.\n",
      "\n",
      "- 면적은 약 10만 km2이며, 인구는 약 5천만 명입니다. \n",
      "\n",
      "- 남쪽으로는 한국해협을 사이에 두고 일본과 마주보고 있습니다. \n",
      "\n",
      "- 북쪽으로는 한반도의 비무장지대를 사이에 두고 조선민주주의인민공화국과 국경을 맞대고 있습니다.\n",
      "\n",
      "- 동쪽으로는 동해, 서쪽으로는 황해와 접하고 있습니다.\n",
      "\n",
      "- 정치체제는 대통령중심제 민주공화국입니다.\n",
      "\n",
      "- 주요 산업은 전자, 자동차, 선박 건조, 철강 등의 제조업과 서비스업이 발달했습니다.\n",
      "\n",
      "- 세계 10위권의 경제규모를 가진 선진국입니다."
     ]
    },
    {
     "data": {
      "text/plain": [
       "' 한국의 남부에 위치한 국가입니다. 주요 내용은 다음과 같습니다:\\n\\n- 수도는 서울입니다.\\n\\n- 면적은 약 10만 km2이며, 인구는 약 5천만 명입니다. \\n\\n- 남쪽으로는 한국해협을 사이에 두고 일본과 마주보고 있습니다. \\n\\n- 북쪽으로는 한반도의 비무장지대를 사이에 두고 조선민주주의인민공화국과 국경을 맞대고 있습니다.\\n\\n- 동쪽으로는 동해, 서쪽으로는 황해와 접하고 있습니다.\\n\\n- 정치체제는 대통령중심제 민주공화국입니다.\\n\\n- 주요 산업은 전자, 자동차, 선박 건조, 철강 등의 제조업과 서비스업이 발달했습니다.\\n\\n- 세계 10위권의 경제규모를 가진 선진국입니다.'"
      ]
     },
     "execution_count": 4,
     "metadata": {},
     "output_type": "execute_result"
    }
   ],
   "source": [
    "llm_text.invoke(\"Korea, south의 위치는?\")"
   ]
  },
  {
   "cell_type": "code",
   "execution_count": 5,
   "metadata": {},
   "outputs": [
    {
     "name": "stdout",
     "output_type": "stream",
     "text": [
      "Running on local URL:  http://127.0.0.1:7860\n",
      "\n",
      "To create a public link, set `share=True` in `launch()`.\n"
     ]
    },
    {
     "data": {
      "text/html": [
       "<div><iframe src=\"http://127.0.0.1:7860/\" width=\"100%\" height=\"500\" allow=\"autoplay; camera; microphone; clipboard-read; clipboard-write;\" frameborder=\"0\" allowfullscreen></iframe></div>"
      ],
      "text/plain": [
       "<IPython.core.display.HTML object>"
      ]
     },
     "metadata": {},
     "output_type": "display_data"
    },
    {
     "data": {
      "text/plain": []
     },
     "execution_count": 5,
     "metadata": {},
     "output_type": "execute_result"
    }
   ],
   "source": [
    "from langchain.schema import AIMessage, HumanMessage\n",
    "import gradio as gr\n",
    "\n",
    "import random\n",
    "import time\n",
    "\n",
    "with gr.Blocks() as demo:\n",
    "    chatbot = gr.Chatbot()\n",
    "    msg = gr.Textbox()\n",
    "    clear = gr.ClearButton([msg, chatbot])\n",
    "\n",
    "    def respond(message, chat_history):\n",
    "        bot_message = llm_text.invoke(message)\n",
    "        chat_history.append((message, bot_message))\n",
    "        return \"\", chat_history\n",
    "\n",
    "    msg.submit(respond, [msg, chatbot], [msg, chatbot])\n",
    "\n",
    "demo.launch()\n",
    "\n",
    "\n"
   ]
  },
  {
   "cell_type": "code",
   "execution_count": null,
   "metadata": {},
   "outputs": [],
   "source": []
  }
 ],
 "metadata": {
  "kernelspec": {
   "display_name": "bedrock",
   "language": "python",
   "name": "python3"
  },
  "language_info": {
   "codemirror_mode": {
    "name": "ipython",
    "version": 3
   },
   "file_extension": ".py",
   "mimetype": "text/x-python",
   "name": "python",
   "nbconvert_exporter": "python",
   "pygments_lexer": "ipython3",
   "version": "3.10.13"
  }
 },
 "nbformat": 4,
 "nbformat_minor": 2
}
