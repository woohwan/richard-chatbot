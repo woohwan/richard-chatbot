{
 "cells": [
  {
   "cell_type": "code",
   "execution_count": 3,
   "metadata": {},
   "outputs": [],
   "source": [
    "# create boto3 session for interacting with AWS\n",
    "import boto3\n",
    "session = boto3.Session(region_name='us-east-1')\n",
    "# create bedrock client\n",
    "br_client = session.client('bedrock-runtime')\n"
   ]
  },
  {
   "cell_type": "code",
   "execution_count": 14,
   "metadata": {},
   "outputs": [],
   "source": [
    "# Create LLM Model using claude-v2 model and langchain\n",
    "from langchain.chat_models import BedrockChat\n",
    "from langchain.callbacks.streaming_stdout import StreamingStdOutCallbackHandler\n",
    "\n",
    "# https://python.langchain.com/docs/integrations/chat/bedrock\n",
    "chat_model = BedrockChat(\n",
    "  model_id=\"anthropic.claude-v2\",\n",
    "  client=br_client,\n",
    "  model_kwargs={\n",
    "    \"max_tokens_to_sample\": 512,\n",
    "    \"temperature\": 0.9,\n",
    "    \"top_p\": 0.9,\n",
    "    \"top_k\": 50,\n",
    "  },\n",
    ")\n"
   ]
  },
  {
   "cell_type": "code",
   "execution_count": null,
   "metadata": {},
   "outputs": [],
   "source": [
    "import gradio as gr\n",
    "from operator import itemgetter\n",
    "from langchain.prompts import MessagesPlaceholder, ChatPromptTemplate\n",
    "from langchain.memory import ConversationBufferMemory\n",
    "from langchain.schema.runnable import RunnableLambda, RunnablePassthrough\n",
    "\n",
    "# define a prompt template\n",
    "prompt = \"\"\"You are a helpful AI assistant\"\"\"\n",
    "\n",
    "chat_prompt = ChatPromptTemplate.from_messages(\n",
    "  [\n",
    "    (\"system\", prompt),\n",
    "    MessagesPlaceholder(variable_name=\"history\"),\n",
    "    (\"human\", \"{input}\" )\n",
    "  ])\n",
    "\n",
    "# Create conversation history\n",
    "memory = ConversationBufferMemory(memory_key=\"history\", return_messages=True)\n",
    "\n",
    "chain = ( RunnablePassthrough.assign(\n",
    "          history=RunnableLambda(memory.load_memory_variables) | itemgetter(\"history\")\n",
    "        )\n",
    "        | chat_prompt\n",
    "        | chat_model\n",
    ")\n",
    "\n",
    "def stream_response(input, history):\n",
    "  if input is not None:\n",
    "    partial_message = \"\"\n",
    "    for response in chain.stream({\"input\": input}):\n",
    "      partial_message += response.content\n",
    "      yield partial_message\n",
    "\n",
    "# https://www.gradio.app/docs/chatinterface\n",
    "gr.ChatInterface(stream_response, title=\"Chat with Claude\").queue().launch()"
   ]
  },
  {
   "cell_type": "code",
   "execution_count": null,
   "metadata": {},
   "outputs": [],
   "source": [
    "\"\""
   ]
  }
 ],
 "metadata": {
  "kernelspec": {
   "display_name": "bedrock",
   "language": "python",
   "name": "python3"
  },
  "language_info": {
   "codemirror_mode": {
    "name": "ipython",
    "version": 3
   },
   "file_extension": ".py",
   "mimetype": "text/x-python",
   "name": "python",
   "nbconvert_exporter": "python",
   "pygments_lexer": "ipython3",
   "version": "3.10.13"
  }
 },
 "nbformat": 4,
 "nbformat_minor": 2
}
