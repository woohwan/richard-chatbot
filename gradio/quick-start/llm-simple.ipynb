{
 "cells": [
  {
   "cell_type": "code",
   "execution_count": 1,
   "metadata": {},
   "outputs": [],
   "source": [
    "# create boto3 session for interacting with AWS\n",
    "import boto3\n",
    "session = boto3.Session(region_name='us-east-1')\n",
    "# create bedrock client\n",
    "br_client = session.client('bedrock-runtime')\n"
   ]
  },
  {
   "cell_type": "code",
   "execution_count": 2,
   "metadata": {},
   "outputs": [],
   "source": [
    "# Create LLM Model using claude-v2 model and langchain\n",
    "from langchain.llms import Bedrock\n",
    "from langchain.callbacks.streaming_stdout import StreamingStdOutCallbackHandler\n",
    "\n",
    "llm_text = Bedrock(\n",
    "  client = br_client,\n",
    "  model_id = 'anthropic.claude-v2',\n",
    "  model_kwargs = {\n",
    "    \"max_tokens_to_sample\": 512,\n",
    "  },\n",
    "  streaming = True,\n",
    "  callbacks = [StreamingStdOutCallbackHandler()]\n",
    ")"
   ]
  },
  {
   "cell_type": "code",
   "execution_count": 3,
   "metadata": {},
   "outputs": [
    {
     "name": "stdout",
     "output_type": "stream",
     "text": [
      " 한국은 동북아시아에 위치한 국가입니다. 한반도의 남부를 차지하고 있으며, 북으로는 북한과 국경을 접하고 있습니다.\n",
      "\n",
      "수도는 서울특별시이며, 주요 도시로는 부산광역시, 대구광역시, 인천광역시, 광주광역시, 대전광역시 등이 있습니다. 면적은 약 10만km2이고, 인구는 약 5천1백만 명입니다. \n",
      "\n",
      "대한민국은 선진 산업국가로 성장했으며, 경제규모는 세계 10위 안에 듭니다. 또한 민주주의와 자유시장경제를 기반으로 정치, 경제, 사회가 발전했습니다. 한류로 대표되는 문화소프트파워도 세계적 수준입니다."
     ]
    },
    {
     "data": {
      "text/plain": [
       "' 한국은 동북아시아에 위치한 국가입니다. 한반도의 남부를 차지하고 있으며, 북으로는 북한과 국경을 접하고 있습니다.\\n\\n수도는 서울특별시이며, 주요 도시로는 부산광역시, 대구광역시, 인천광역시, 광주광역시, 대전광역시 등이 있습니다. 면적은 약 10만km2이고, 인구는 약 5천1백만 명입니다. \\n\\n대한민국은 선진 산업국가로 성장했으며, 경제규모는 세계 10위 안에 듭니다. 또한 민주주의와 자유시장경제를 기반으로 정치, 경제, 사회가 발전했습니다. 한류로 대표되는 문화소프트파워도 세계적 수준입니다.'"
      ]
     },
     "execution_count": 3,
     "metadata": {},
     "output_type": "execute_result"
    }
   ],
   "source": [
    "from langchain.chat_models import BedrockChat\n",
    "from langchain.prompts import ChatPromptTemplate\n",
    "from langchain_core.output_parsers import StrOutputParser\n",
    "\n",
    "prompt = ChatPromptTemplate.from_template(\"{country}의 위치는?\")\n",
    "model = llm_text\n",
    "output_parser = StrOutputParser()\n",
    "\n",
    "chain = prompt | model | output_parser\n",
    "\n",
    "chain.invoke({\"country\": \"Korea, south\"})"
   ]
  }
 ],
 "metadata": {
  "kernelspec": {
   "display_name": "bedrock",
   "language": "python",
   "name": "python3"
  },
  "language_info": {
   "codemirror_mode": {
    "name": "ipython",
    "version": 3
   },
   "file_extension": ".py",
   "mimetype": "text/x-python",
   "name": "python",
   "nbconvert_exporter": "python",
   "pygments_lexer": "ipython3",
   "version": "3.10.13"
  }
 },
 "nbformat": 4,
 "nbformat_minor": 2
}
