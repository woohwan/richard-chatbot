{
 "cells": [
  {
   "cell_type": "markdown",
   "metadata": {},
   "source": [
    "## 헌법 전문을 OpenSearch VectorSotre에 저장"
   ]
  },
  {
   "cell_type": "markdown",
   "metadata": {},
   "source": [
    "### OpenSearch Client 생성"
   ]
  },
  {
   "cell_type": "markdown",
   "metadata": {},
   "source": [
    "**순서**\n",
    "- opensearch 설치\n",
    "- opensearch-dashboards 설치\n",
    "- opensearch-python 설치 (pip install opensearch-py)\n",
    "- nori plugin 설치 (opensearch/bin/opensearch-plugin install analysis-nori)\n",
    "- nori plugin 설치 확인 (opensearch/bin/opensearch-plugin list)\n",
    "- opensearch 실행 (sudo systemctl start opensearch)\n",
    "- opensearch-dashboards 실행 (sudo systemctl start opensearch-dashboards)\n",
    "- opensearch 실행 확인 (curl -XGET https://localhost:9200)\n",
    "- opensearch-dashboards 실행 확인 (curl -XGET https://localhost:5601)\n",
    "- opensearch-dashboards 접속 (https://localhost:5601)\n",
    "- 분석할 문서를 PDFLoader load\n",
    "- 문서 Chunking\n",
    "- OpenSearchVectorSearch를 이용하여 index 생성\n",
    "- 자동 생성된 인덱스 확인\n",
    "- nori 형태소 분석기를 이용하기 위해 index 생성 및 재인덱싱"
   ]
  },
  {
   "cell_type": "code",
   "execution_count": null,
   "metadata": {},
   "outputs": [],
   "source": [
    "\n"
   ]
  },
  {
   "cell_type": "code",
   "execution_count": 6,
   "metadata": {},
   "outputs": [
    {
     "name": "stdout",
     "output_type": "stream",
     "text": [
      "{'name': 'whpark-note', 'cluster_name': 'opensearch', 'cluster_uuid': 'pJcRBV3LS_-KaZnsEVAzTg', 'version': {'distribution': 'opensearch', 'number': '2.11.1', 'build_type': 'deb', 'build_hash': '6b1986e964d440be9137eba1413015c31c5a7752', 'build_date': '2023-11-29T21:43:44.221253956Z', 'build_snapshot': False, 'lucene_version': '9.7.0', 'minimum_wire_compatibility_version': '7.10.0', 'minimum_index_compatibility_version': '7.0.0'}, 'tagline': 'The OpenSearch Project: https://opensearch.org/'}\n"
     ]
    }
   ],
   "source": [
    "\n",
    "from opensearchpy import OpenSearch\n",
    "\n",
    "#  opensearch info\n",
    "host = 'localhost'\n",
    "port = 9200\n",
    "http_auth = ('admin', 'admin')\n",
    "opensearch_endpoint = f'https://{host}:{port}'\n",
    "\n",
    "# certs info: https://www.notion.so/Certificate-Password-8087893ff1b24dd0b71e66c9916fa55a\n",
    "ca_cert = 'certs/root-ca.pem'\n",
    "client_cert = 'certs/admin.pem'\n",
    "client_key = 'certs/admin-key.pem'\n",
    "\n",
    "\n",
    "# create client\n",
    "os_client = OpenSearch(\n",
    "    hosts=[opensearch_endpoint],\n",
    "    http_auth=http_auth,\n",
    "    ca_certs=ca_cert,\n",
    "    client_cert=client_cert,\n",
    "    client_key=client_key,\n",
    "    use_ssl=True,\n",
    "    verify_certs=True,\n",
    "    ssl_assert_hostname=False,\n",
    "    ssl_show_warn=False,\n",
    ")\n",
    "\n",
    "# verify connection\n",
    "print(os_client.info())\n"
   ]
  },
  {
   "cell_type": "code",
   "execution_count": null,
   "metadata": {},
   "outputs": [],
   "source": []
  }
 ],
 "metadata": {
  "kernelspec": {
   "display_name": "bedrock",
   "language": "python",
   "name": "python3"
  },
  "language_info": {
   "codemirror_mode": {
    "name": "ipython",
    "version": 3
   },
   "file_extension": ".py",
   "mimetype": "text/x-python",
   "name": "python",
   "nbconvert_exporter": "python",
   "pygments_lexer": "ipython3",
   "version": "3.10.13"
  }
 },
 "nbformat": 4,
 "nbformat_minor": 2
}
